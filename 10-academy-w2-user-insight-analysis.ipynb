{
 "cells": [
  {
   "cell_type": "code",
   "execution_count": 1,
   "id": "19638d28",
   "metadata": {
    "execution": {
     "iopub.execute_input": "2024-12-20T11:43:49.167592Z",
     "iopub.status.busy": "2024-12-20T11:43:49.167172Z",
     "iopub.status.idle": "2024-12-20T11:43:50.411130Z",
     "shell.execute_reply": "2024-12-20T11:43:50.409813Z"
    },
    "papermill": {
     "duration": 1.251961,
     "end_time": "2024-12-20T11:43:50.413046",
     "exception": false,
     "start_time": "2024-12-20T11:43:49.161085",
     "status": "completed"
    },
    "tags": []
   },
   "outputs": [
    {
     "name": "stdout",
     "output_type": "stream",
     "text": [
      "Cloning into '10-Academy-W2-User-Insight-Analysis'...\r\n",
      "remote: Enumerating objects: 7, done.\u001b[K\r\n",
      "remote: Counting objects: 100% (7/7), done.\u001b[K\r\n",
      "remote: Compressing objects: 100% (3/3), done.\u001b[K\r\n",
      "remote: Total 7 (delta 0), reused 7 (delta 0), pack-reused 0 (from 0)\u001b[K\r\n",
      "Receiving objects: 100% (7/7), done.\r\n"
     ]
    }
   ],
   "source": [
    "!git clone https://github.com/elayemu/10-Academy-W2-User-Insight-Analysis.git"
   ]
  },
  {
   "cell_type": "code",
   "execution_count": 2,
   "id": "2ad57dd7",
   "metadata": {
    "execution": {
     "iopub.execute_input": "2024-12-20T11:43:50.422253Z",
     "iopub.status.busy": "2024-12-20T11:43:50.421886Z",
     "iopub.status.idle": "2024-12-20T11:43:50.429898Z",
     "shell.execute_reply": "2024-12-20T11:43:50.428866Z"
    },
    "papermill": {
     "duration": 0.014375,
     "end_time": "2024-12-20T11:43:50.431620",
     "exception": false,
     "start_time": "2024-12-20T11:43:50.417245",
     "status": "completed"
    },
    "tags": []
   },
   "outputs": [
    {
     "name": "stdout",
     "output_type": "stream",
     "text": [
      "/kaggle/working/10-Academy-W2-User-Insight-Analysis\n"
     ]
    }
   ],
   "source": [
    "%cd 10-Academy-W2-User-Insight-Analysis"
   ]
  },
  {
   "cell_type": "code",
   "execution_count": 3,
   "id": "9fadb6d7",
   "metadata": {
    "execution": {
     "iopub.execute_input": "2024-12-20T11:43:50.440649Z",
     "iopub.status.busy": "2024-12-20T11:43:50.440269Z",
     "iopub.status.idle": "2024-12-20T11:43:51.161273Z",
     "shell.execute_reply": "2024-12-20T11:43:51.159908Z"
    },
    "papermill": {
     "duration": 0.727634,
     "end_time": "2024-12-20T11:43:51.163276",
     "exception": false,
     "start_time": "2024-12-20T11:43:50.435642",
     "status": "completed"
    },
    "tags": []
   },
   "outputs": [
    {
     "name": "stdout",
     "output_type": "stream",
     "text": [
      "From https://github.com/elayemu/10-Academy-W2-User-Insight-Analysis\r\n",
      " * branch            main       -> FETCH_HEAD\r\n",
      "Already up to date.\r\n"
     ]
    }
   ],
   "source": [
    "!git pull origin main"
   ]
  },
  {
   "cell_type": "code",
   "execution_count": 4,
   "id": "1bc05227",
   "metadata": {
    "execution": {
     "iopub.execute_input": "2024-12-20T11:43:51.172596Z",
     "iopub.status.busy": "2024-12-20T11:43:51.172190Z",
     "iopub.status.idle": "2024-12-20T11:43:59.027059Z",
     "shell.execute_reply": "2024-12-20T11:43:59.025595Z"
    },
    "papermill": {
     "duration": 7.861592,
     "end_time": "2024-12-20T11:43:59.028887",
     "exception": false,
     "start_time": "2024-12-20T11:43:51.167295",
     "status": "completed"
    },
    "tags": []
   },
   "outputs": [
    {
     "name": "stdout",
     "output_type": "stream",
     "text": [
      "Collecting streamlit\r\n",
      "  Downloading streamlit-1.41.1-py2.py3-none-any.whl.metadata (8.5 kB)\r\n",
      "Requirement already satisfied: altair<6,>=4.0 in /usr/local/lib/python3.10/dist-packages (from streamlit) (5.5.0)\r\n",
      "Requirement already satisfied: blinker<2,>=1.0.0 in /usr/lib/python3/dist-packages (from streamlit) (1.4)\r\n",
      "Requirement already satisfied: cachetools<6,>=4.0 in /usr/local/lib/python3.10/dist-packages (from streamlit) (5.5.0)\r\n",
      "Requirement already satisfied: click<9,>=7.0 in /usr/local/lib/python3.10/dist-packages (from streamlit) (8.1.7)\r\n",
      "Requirement already satisfied: numpy<3,>=1.23 in /usr/local/lib/python3.10/dist-packages (from streamlit) (1.26.4)\r\n",
      "Requirement already satisfied: packaging<25,>=20 in /usr/local/lib/python3.10/dist-packages (from streamlit) (24.1)\r\n",
      "Requirement already satisfied: pandas<3,>=1.4.0 in /usr/local/lib/python3.10/dist-packages (from streamlit) (2.1.4)\r\n",
      "Requirement already satisfied: pillow<12,>=7.1.0 in /usr/local/lib/python3.10/dist-packages (from streamlit) (10.4.0)\r\n",
      "Requirement already satisfied: protobuf<6,>=3.20 in /usr/local/lib/python3.10/dist-packages (from streamlit) (3.20.3)\r\n",
      "Requirement already satisfied: pyarrow>=7.0 in /usr/local/lib/python3.10/dist-packages (from streamlit) (18.1.0)\r\n",
      "Requirement already satisfied: requests<3,>=2.27 in /usr/local/lib/python3.10/dist-packages (from streamlit) (2.32.3)\r\n",
      "Requirement already satisfied: rich<14,>=10.14.0 in /usr/local/lib/python3.10/dist-packages (from streamlit) (13.8.1)\r\n",
      "Requirement already satisfied: tenacity<10,>=8.1.0 in /usr/local/lib/python3.10/dist-packages (from streamlit) (9.0.0)\r\n",
      "Requirement already satisfied: toml<2,>=0.10.1 in /usr/local/lib/python3.10/dist-packages (from streamlit) (0.10.2)\r\n",
      "Requirement already satisfied: typing-extensions<5,>=4.3.0 in /usr/local/lib/python3.10/dist-packages (from streamlit) (4.12.2)\r\n",
      "Requirement already satisfied: watchdog<7,>=2.1.5 in /usr/local/lib/python3.10/dist-packages (from streamlit) (6.0.0)\r\n",
      "Requirement already satisfied: gitpython!=3.1.19,<4,>=3.0.7 in /usr/local/lib/python3.10/dist-packages (from streamlit) (3.1.43)\r\n",
      "Collecting pydeck<1,>=0.8.0b4 (from streamlit)\r\n",
      "  Downloading pydeck-0.9.1-py2.py3-none-any.whl.metadata (4.1 kB)\r\n",
      "Requirement already satisfied: tornado<7,>=6.0.3 in /usr/local/lib/python3.10/dist-packages (from streamlit) (6.3.3)\r\n",
      "Requirement already satisfied: jinja2 in /usr/local/lib/python3.10/dist-packages (from altair<6,>=4.0->streamlit) (3.1.4)\r\n",
      "Requirement already satisfied: jsonschema>=3.0 in /usr/local/lib/python3.10/dist-packages (from altair<6,>=4.0->streamlit) (4.23.0)\r\n",
      "Requirement already satisfied: narwhals>=1.14.2 in /usr/local/lib/python3.10/dist-packages (from altair<6,>=4.0->streamlit) (1.18.4)\r\n",
      "Requirement already satisfied: gitdb<5,>=4.0.1 in /usr/local/lib/python3.10/dist-packages (from gitpython!=3.1.19,<4,>=3.0.7->streamlit) (4.0.11)\r\n",
      "Requirement already satisfied: python-dateutil>=2.8.2 in /usr/local/lib/python3.10/dist-packages (from pandas<3,>=1.4.0->streamlit) (2.8.2)\r\n",
      "Requirement already satisfied: pytz>=2020.1 in /usr/local/lib/python3.10/dist-packages (from pandas<3,>=1.4.0->streamlit) (2024.2)\r\n",
      "Requirement already satisfied: tzdata>=2022.1 in /usr/local/lib/python3.10/dist-packages (from pandas<3,>=1.4.0->streamlit) (2024.1)\r\n",
      "Requirement already satisfied: charset-normalizer<4,>=2 in /usr/local/lib/python3.10/dist-packages (from requests<3,>=2.27->streamlit) (3.3.2)\r\n",
      "Requirement already satisfied: idna<4,>=2.5 in /usr/local/lib/python3.10/dist-packages (from requests<3,>=2.27->streamlit) (3.10)\r\n",
      "Requirement already satisfied: urllib3<3,>=1.21.1 in /usr/local/lib/python3.10/dist-packages (from requests<3,>=2.27->streamlit) (2.2.3)\r\n",
      "Requirement already satisfied: certifi>=2017.4.17 in /usr/local/lib/python3.10/dist-packages (from requests<3,>=2.27->streamlit) (2024.8.30)\r\n",
      "Requirement already satisfied: markdown-it-py>=2.2.0 in /usr/local/lib/python3.10/dist-packages (from rich<14,>=10.14.0->streamlit) (3.0.0)\r\n",
      "Requirement already satisfied: pygments<3.0.0,>=2.13.0 in /usr/local/lib/python3.10/dist-packages (from rich<14,>=10.14.0->streamlit) (2.18.0)\r\n",
      "Requirement already satisfied: smmap<6,>=3.0.1 in /usr/local/lib/python3.10/dist-packages (from gitdb<5,>=4.0.1->gitpython!=3.1.19,<4,>=3.0.7->streamlit) (5.0.1)\r\n",
      "Requirement already satisfied: MarkupSafe>=2.0 in /usr/local/lib/python3.10/dist-packages (from jinja2->altair<6,>=4.0->streamlit) (2.1.5)\r\n",
      "Requirement already satisfied: attrs>=22.2.0 in /usr/local/lib/python3.10/dist-packages (from jsonschema>=3.0->altair<6,>=4.0->streamlit) (24.2.0)\r\n",
      "Requirement already satisfied: jsonschema-specifications>=2023.03.6 in /usr/local/lib/python3.10/dist-packages (from jsonschema>=3.0->altair<6,>=4.0->streamlit) (2023.12.1)\r\n",
      "Requirement already satisfied: referencing>=0.28.4 in /usr/local/lib/python3.10/dist-packages (from jsonschema>=3.0->altair<6,>=4.0->streamlit) (0.35.1)\r\n",
      "Requirement already satisfied: rpds-py>=0.7.1 in /usr/local/lib/python3.10/dist-packages (from jsonschema>=3.0->altair<6,>=4.0->streamlit) (0.20.0)\r\n",
      "Requirement already satisfied: mdurl~=0.1 in /usr/local/lib/python3.10/dist-packages (from markdown-it-py>=2.2.0->rich<14,>=10.14.0->streamlit) (0.1.2)\r\n",
      "Requirement already satisfied: six>=1.5 in /usr/local/lib/python3.10/dist-packages (from python-dateutil>=2.8.2->pandas<3,>=1.4.0->streamlit) (1.16.0)\r\n",
      "Downloading streamlit-1.41.1-py2.py3-none-any.whl (9.1 MB)\r\n",
      "\u001b[2K   \u001b[90m━━━━━━━━━━━━━━━━━━━━━━━━━━━━━━━━━━━━━━━━\u001b[0m \u001b[32m9.1/9.1 MB\u001b[0m \u001b[31m55.4 MB/s\u001b[0m eta \u001b[36m0:00:00\u001b[0m\r\n",
      "\u001b[?25hDownloading pydeck-0.9.1-py2.py3-none-any.whl (6.9 MB)\r\n",
      "\u001b[2K   \u001b[90m━━━━━━━━━━━━━━━━━━━━━━━━━━━━━━━━━━━━━━━━\u001b[0m \u001b[32m6.9/6.9 MB\u001b[0m \u001b[31m82.4 MB/s\u001b[0m eta \u001b[36m0:00:00\u001b[0m\r\n",
      "\u001b[?25hInstalling collected packages: pydeck, streamlit\r\n",
      "Successfully installed pydeck-0.9.1 streamlit-1.41.1\r\n"
     ]
    }
   ],
   "source": [
    "!pip install streamlit"
   ]
  },
  {
   "cell_type": "markdown",
   "id": "308818df",
   "metadata": {
    "papermill": {
     "duration": 0.004656,
     "end_time": "2024-12-20T11:43:59.039529",
     "exception": false,
     "start_time": "2024-12-20T11:43:59.034873",
     "status": "completed"
    },
    "tags": []
   },
   "source": [
    "# Import Required Libraries"
   ]
  },
  {
   "cell_type": "code",
   "execution_count": 5,
   "id": "fbeb6908",
   "metadata": {
    "execution": {
     "iopub.execute_input": "2024-12-20T11:43:59.050693Z",
     "iopub.status.busy": "2024-12-20T11:43:59.050321Z",
     "iopub.status.idle": "2024-12-20T11:44:02.223032Z",
     "shell.execute_reply": "2024-12-20T11:44:02.222079Z"
    },
    "papermill": {
     "duration": 3.180621,
     "end_time": "2024-12-20T11:44:02.224994",
     "exception": false,
     "start_time": "2024-12-20T11:43:59.044373",
     "status": "completed"
    },
    "tags": []
   },
   "outputs": [],
   "source": [
    "# Import required libraries\n",
    "import pandas as pd\n",
    "import numpy as np\n",
    "import matplotlib.pyplot as plt\n",
    "import seaborn as sns\n",
    "from sklearn.preprocessing import StandardScaler\n",
    "from sklearn.cluster import KMeans\n",
    "from sklearn.decomposition import PCA\n",
    "import streamlit as st"
   ]
  },
  {
   "cell_type": "markdown",
   "id": "1de2532f",
   "metadata": {
    "papermill": {
     "duration": 0.004584,
     "end_time": "2024-12-20T11:44:02.234762",
     "exception": false,
     "start_time": "2024-12-20T11:44:02.230178",
     "status": "completed"
    },
    "tags": []
   },
   "source": []
  },
  {
   "cell_type": "markdown",
   "id": "db957b5f",
   "metadata": {
    "papermill": {
     "duration": 0.004545,
     "end_time": "2024-12-20T11:44:02.244552",
     "exception": false,
     "start_time": "2024-12-20T11:44:02.240007",
     "status": "completed"
    },
    "tags": []
   },
   "source": [
    "# Load the Dataset"
   ]
  },
  {
   "cell_type": "code",
   "execution_count": 6,
   "id": "487f04a0",
   "metadata": {
    "execution": {
     "iopub.execute_input": "2024-12-20T11:44:02.256117Z",
     "iopub.status.busy": "2024-12-20T11:44:02.255527Z",
     "iopub.status.idle": "2024-12-20T11:45:46.539800Z",
     "shell.execute_reply": "2024-12-20T11:45:46.538453Z"
    },
    "papermill": {
     "duration": 104.296836,
     "end_time": "2024-12-20T11:45:46.546239",
     "exception": false,
     "start_time": "2024-12-20T11:44:02.249403",
     "status": "completed"
    },
    "tags": []
   },
   "outputs": [
    {
     "data": {
      "text/plain": [
       "(              Bearer Id               Start  Start ms                 End  \\\n",
       " 0  13114483460844900352 2019-04-04 12:01:18     770.0 2019-04-25 14:35:31   \n",
       " 1  13114483482878900224 2019-04-09 13:04:04     235.0 2019-04-25 08:15:48   \n",
       " 2  13114483484080500736 2019-04-09 17:42:11       1.0 2019-04-25 11:58:13   \n",
       " 3  13114483485442799616 2019-04-10 00:31:25     486.0 2019-04-25 07:36:35   \n",
       " 4  13114483499480700928 2019-04-12 20:10:23     565.0 2019-04-25 10:40:32   \n",
       " \n",
       "    End ms  Dur. (ms)          IMSI  MSISDN/Number          IMEI  \\\n",
       " 0   662.0  1823652.0  2.082014e+14   3.366496e+10  3.552121e+13   \n",
       " 1   606.0  1365104.0  2.082019e+14   3.368185e+10  3.579401e+13   \n",
       " 2   652.0  1361762.0  2.082003e+14   3.376063e+10  3.528151e+13   \n",
       " 3   171.0  1321509.0  2.082014e+14   3.375034e+10  3.535661e+13   \n",
       " 4   954.0  1089009.0  2.082014e+14   3.369980e+10  3.540701e+13   \n",
       " \n",
       "   Last Location Name  ...  Youtube DL (Bytes)  Youtube UL (Bytes)  \\\n",
       " 0   9164566995485190  ...          15854611.0           2501332.0   \n",
       " 1            L77566A  ...          20247395.0          19111729.0   \n",
       " 2            D42335A  ...          19725661.0          14699576.0   \n",
       " 3            T21824A  ...          21388122.0          15146643.0   \n",
       " 4            D88865A  ...          15259380.0          18962873.0   \n",
       " \n",
       "    Netflix DL (Bytes)  Netflix UL (Bytes)  Gaming DL (Bytes)  \\\n",
       " 0           8198936.0           9656251.0        278082303.0   \n",
       " 1          18338413.0          17227132.0        608750074.0   \n",
       " 2          17587794.0           6163408.0        229584621.0   \n",
       " 3          13994646.0           1097942.0        799538153.0   \n",
       " 4          17124581.0            415218.0        527707248.0   \n",
       " \n",
       "    Gaming UL (Bytes)  Other DL (Bytes)  Other UL (Bytes)  Total UL (Bytes)  \\\n",
       " 0         14344150.0       171744450.0         8814393.0        36749741.0   \n",
       " 1          1170709.0       526904238.0        15055145.0        53800391.0   \n",
       " 2           395630.0       410692588.0         4215763.0        27883638.0   \n",
       " 3         10849722.0       749039933.0        12797283.0        43324218.0   \n",
       " 4          3529801.0       550709500.0        13910322.0        38542814.0   \n",
       " \n",
       "    Total DL (Bytes)  \n",
       " 0       308879636.0  \n",
       " 1       653384965.0  \n",
       " 2       279807335.0  \n",
       " 3       846028530.0  \n",
       " 4       569138589.0  \n",
       " \n",
       " [5 rows x 55 columns],\n",
       "       Fields                                        Description\n",
       " 0  bearer id                             xDr session identifier\n",
       " 1  Dur. (ms)                  Total Duration of the xDR (in ms)\n",
       " 2      Start      Start time of the xDR (first frame timestamp)\n",
       " 3   Start ms  Milliseconds offset of start time for the xDR ...\n",
       " 4        End         End time of the xDR (last frame timestamp))"
      ]
     },
     "execution_count": 6,
     "metadata": {},
     "output_type": "execute_result"
    }
   ],
   "source": [
    "# Load the dataset and description of column names\n",
    "data_path = '/kaggle/input/w2-data/Week2_challenge_data_source.xlsx'\n",
    "description_path = '/kaggle/input/w2-data/Field Descriptions.xlsx'\n",
    "\n",
    "# Read the Excel files\n",
    "data = pd.read_excel(data_path)\n",
    "description = pd.read_excel(description_path)\n",
    "\n",
    "# Display the first few rows of the dataset\n",
    "data.head(), description.head()"
   ]
  },
  {
   "cell_type": "markdown",
   "id": "d8d2750e",
   "metadata": {
    "papermill": {
     "duration": 0.004921,
     "end_time": "2024-12-20T11:45:46.556164",
     "exception": false,
     "start_time": "2024-12-20T11:45:46.551243",
     "status": "completed"
    },
    "tags": []
   },
   "source": [
    "# Data Preparation and Cleaning"
   ]
  },
  {
   "cell_type": "code",
   "execution_count": 7,
   "id": "6345899c",
   "metadata": {
    "execution": {
     "iopub.execute_input": "2024-12-20T11:45:46.568733Z",
     "iopub.status.busy": "2024-12-20T11:45:46.568108Z",
     "iopub.status.idle": "2024-12-20T11:45:46.929793Z",
     "shell.execute_reply": "2024-12-20T11:45:46.928270Z"
    },
    "papermill": {
     "duration": 0.370349,
     "end_time": "2024-12-20T11:45:46.931735",
     "exception": false,
     "start_time": "2024-12-20T11:45:46.561386",
     "status": "completed"
    },
    "tags": []
   },
   "outputs": [
    {
     "name": "stdout",
     "output_type": "stream",
     "text": [
      "Missing values in each column:\n",
      " Start                                            1\n",
      "Start ms                                         1\n",
      "End                                              1\n",
      "End ms                                           1\n",
      "Dur. (ms)                                        1\n",
      "IMSI                                           570\n",
      "MSISDN/Number                                 1066\n",
      "IMEI                                           572\n",
      "Last Location Name                            1153\n",
      "Avg RTT DL (ms)                              27829\n",
      "Avg RTT UL (ms)                              27812\n",
      "Avg Bearer TP DL (kbps)                          1\n",
      "Avg Bearer TP UL (kbps)                          1\n",
      "TCP DL Retrans. Vol (Bytes)                  88146\n",
      "TCP UL Retrans. Vol (Bytes)                  96649\n",
      "DL TP < 50 Kbps (%)                            754\n",
      "50 Kbps < DL TP < 250 Kbps (%)                 754\n",
      "250 Kbps < DL TP < 1 Mbps (%)                  754\n",
      "DL TP > 1 Mbps (%)                             754\n",
      "UL TP < 10 Kbps (%)                            792\n",
      "10 Kbps < UL TP < 50 Kbps (%)                  792\n",
      "50 Kbps < UL TP < 300 Kbps (%)                 792\n",
      "UL TP > 300 Kbps (%)                           792\n",
      "HTTP DL (Bytes)                              81474\n",
      "HTTP UL (Bytes)                              81810\n",
      "Activity Duration DL (ms)                        1\n",
      "Activity Duration UL (ms)                        1\n",
      "Dur. (ms).1                                      1\n",
      "Handset Manufacturer                           572\n",
      "Handset Type                                   572\n",
      "Nb of sec with 125000B < Vol DL              97538\n",
      "Nb of sec with 1250B < Vol UL < 6250B        92894\n",
      "Nb of sec with 31250B < Vol DL < 125000B     93586\n",
      "Nb of sec with 37500B < Vol UL              130254\n",
      "Nb of sec with 6250B < Vol DL < 31250B       88317\n",
      "Nb of sec with 6250B < Vol UL < 37500B      111843\n",
      "Nb of sec with Vol DL < 6250B                  755\n",
      "Nb of sec with Vol UL < 1250B                  793\n",
      "Total UL (Bytes)                                 1\n",
      "Total DL (Bytes)                                 1\n",
      "dtype: int64\n",
      "Missing values filled. Current missing values status:\n",
      " Bearer Id                                      0\n",
      "Start                                          1\n",
      "Start ms                                       0\n",
      "End                                            1\n",
      "End ms                                         0\n",
      "Dur. (ms)                                      0\n",
      "IMSI                                           0\n",
      "MSISDN/Number                                  0\n",
      "IMEI                                           0\n",
      "Last Location Name                          1153\n",
      "Avg RTT DL (ms)                                0\n",
      "Avg RTT UL (ms)                                0\n",
      "Avg Bearer TP DL (kbps)                        0\n",
      "Avg Bearer TP UL (kbps)                        0\n",
      "TCP DL Retrans. Vol (Bytes)                    0\n",
      "TCP UL Retrans. Vol (Bytes)                    0\n",
      "DL TP < 50 Kbps (%)                            0\n",
      "50 Kbps < DL TP < 250 Kbps (%)                 0\n",
      "250 Kbps < DL TP < 1 Mbps (%)                  0\n",
      "DL TP > 1 Mbps (%)                             0\n",
      "UL TP < 10 Kbps (%)                            0\n",
      "10 Kbps < UL TP < 50 Kbps (%)                  0\n",
      "50 Kbps < UL TP < 300 Kbps (%)                 0\n",
      "UL TP > 300 Kbps (%)                           0\n",
      "HTTP DL (Bytes)                                0\n",
      "HTTP UL (Bytes)                                0\n",
      "Activity Duration DL (ms)                      0\n",
      "Activity Duration UL (ms)                      0\n",
      "Dur. (ms).1                                    0\n",
      "Handset Manufacturer                         572\n",
      "Handset Type                                 572\n",
      "Nb of sec with 125000B < Vol DL                0\n",
      "Nb of sec with 1250B < Vol UL < 6250B          0\n",
      "Nb of sec with 31250B < Vol DL < 125000B       0\n",
      "Nb of sec with 37500B < Vol UL                 0\n",
      "Nb of sec with 6250B < Vol DL < 31250B         0\n",
      "Nb of sec with 6250B < Vol UL < 37500B         0\n",
      "Nb of sec with Vol DL < 6250B                  0\n",
      "Nb of sec with Vol UL < 1250B                  0\n",
      "Social Media DL (Bytes)                        0\n",
      "Social Media UL (Bytes)                        0\n",
      "Google DL (Bytes)                              0\n",
      "Google UL (Bytes)                              0\n",
      "Email DL (Bytes)                               0\n",
      "Email UL (Bytes)                               0\n",
      "Youtube DL (Bytes)                             0\n",
      "Youtube UL (Bytes)                             0\n",
      "Netflix DL (Bytes)                             0\n",
      "Netflix UL (Bytes)                             0\n",
      "Gaming DL (Bytes)                              0\n",
      "Gaming UL (Bytes)                              0\n",
      "Other DL (Bytes)                               0\n",
      "Other UL (Bytes)                               0\n",
      "Total UL (Bytes)                               0\n",
      "Total DL (Bytes)                               0\n",
      "dtype: int64\n"
     ]
    }
   ],
   "source": [
    "# Check for missing values\n",
    "missing_values = data.isnull().sum()\n",
    "print(\"Missing values in each column:\\n\", missing_values[missing_values > 0])\n",
    "\n",
    "# Select only numeric columns and calculate the mean\n",
    "numeric_cols = data.select_dtypes(include=['number']).columns\n",
    "\n",
    "# Fill missing values with the mean of numeric columns\n",
    "data[numeric_cols] = data[numeric_cols].fillna(data[numeric_cols].mean())\n",
    "\n",
    "print(\"Missing values filled. Current missing values status:\\n\", data.isnull().sum())"
   ]
  },
  {
   "cell_type": "markdown",
   "id": "614147eb",
   "metadata": {
    "papermill": {
     "duration": 0.00504,
     "end_time": "2024-12-20T11:45:46.942514",
     "exception": false,
     "start_time": "2024-12-20T11:45:46.937474",
     "status": "completed"
    },
    "tags": []
   },
   "source": [
    "# User Overview Analysis"
   ]
  },
  {
   "cell_type": "code",
   "execution_count": 8,
   "id": "e7a2fcbf",
   "metadata": {
    "execution": {
     "iopub.execute_input": "2024-12-20T11:45:46.954709Z",
     "iopub.status.busy": "2024-12-20T11:45:46.954313Z",
     "iopub.status.idle": "2024-12-20T11:45:46.976560Z",
     "shell.execute_reply": "2024-12-20T11:45:46.975142Z"
    },
    "papermill": {
     "duration": 0.030396,
     "end_time": "2024-12-20T11:45:46.978468",
     "exception": false,
     "start_time": "2024-12-20T11:45:46.948072",
     "status": "completed"
    },
    "tags": []
   },
   "outputs": [
    {
     "name": "stdout",
     "output_type": "stream",
     "text": [
      "Handset Type\n",
      "Huawei B528S-23A                19752\n",
      "Apple iPhone 6S (A1688)          9419\n",
      "Apple iPhone 6 (A1586)           9023\n",
      "undefined                        8987\n",
      "Apple iPhone 7 (A1778)           6326\n",
      "Apple iPhone Se (A1723)          5187\n",
      "Apple iPhone 8 (A1905)           4993\n",
      "Apple iPhone Xr (A2105)          4568\n",
      "Samsung Galaxy S8 (Sm-G950F)     4520\n",
      "Apple iPhone X (A1901)           3813\n",
      "Name: count, dtype: int64\n"
     ]
    }
   ],
   "source": [
    "# Top 10 handsets\n",
    "top_handsets = data['Handset Type'].value_counts().head(10)\n",
    "print(top_handsets)"
   ]
  },
  {
   "cell_type": "code",
   "execution_count": 9,
   "id": "a6c24fe0",
   "metadata": {
    "execution": {
     "iopub.execute_input": "2024-12-20T11:45:46.990614Z",
     "iopub.status.busy": "2024-12-20T11:45:46.990207Z",
     "iopub.status.idle": "2024-12-20T11:45:47.004602Z",
     "shell.execute_reply": "2024-12-20T11:45:47.003352Z"
    },
    "papermill": {
     "duration": 0.022502,
     "end_time": "2024-12-20T11:45:47.006471",
     "exception": false,
     "start_time": "2024-12-20T11:45:46.983969",
     "status": "completed"
    },
    "tags": []
   },
   "outputs": [
    {
     "name": "stdout",
     "output_type": "stream",
     "text": [
      "Handset Manufacturer\n",
      "Apple      59565\n",
      "Samsung    40839\n",
      "Huawei     34423\n",
      "Name: count, dtype: int64\n"
     ]
    }
   ],
   "source": [
    "# Top 3 handset manufacturers\n",
    "top_manufacturers = data['Handset Manufacturer'].value_counts().head(3)\n",
    "print(top_manufacturers)"
   ]
  },
  {
   "cell_type": "code",
   "execution_count": 10,
   "id": "37f08c8b",
   "metadata": {
    "execution": {
     "iopub.execute_input": "2024-12-20T11:45:47.019416Z",
     "iopub.status.busy": "2024-12-20T11:45:47.019013Z",
     "iopub.status.idle": "2024-12-20T11:45:47.121666Z",
     "shell.execute_reply": "2024-12-20T11:45:47.120535Z"
    },
    "papermill": {
     "duration": 0.111664,
     "end_time": "2024-12-20T11:45:47.123657",
     "exception": false,
     "start_time": "2024-12-20T11:45:47.011993",
     "status": "completed"
    },
    "tags": []
   },
   "outputs": [],
   "source": [
    "# Top 5 handsets per top 3 manufacturers\n",
    "top_handsets_per_manufacturer = {}\n",
    "for manufacturer in top_manufacturers.index:\n",
    "    top_handsets_per_manufacturer[manufacturer] = data[data['Handset Manufacturer'] == manufacturer]['Handset Type'].value_counts().head(5)\n",
    "    "
   ]
  },
  {
   "cell_type": "code",
   "execution_count": 11,
   "id": "6298edf1",
   "metadata": {
    "execution": {
     "iopub.execute_input": "2024-12-20T11:45:47.136231Z",
     "iopub.status.busy": "2024-12-20T11:45:47.135877Z",
     "iopub.status.idle": "2024-12-20T11:45:47.142126Z",
     "shell.execute_reply": "2024-12-20T11:45:47.140808Z"
    },
    "papermill": {
     "duration": 0.014466,
     "end_time": "2024-12-20T11:45:47.143826",
     "exception": false,
     "start_time": "2024-12-20T11:45:47.129360",
     "status": "completed"
    },
    "tags": []
   },
   "outputs": [
    {
     "name": "stdout",
     "output_type": "stream",
     "text": [
      "{'Apple': Handset Type\n",
      "Apple iPhone 6S (A1688)    9419\n",
      "Apple iPhone 6 (A1586)     9023\n",
      "Apple iPhone 7 (A1778)     6326\n",
      "Apple iPhone Se (A1723)    5187\n",
      "Apple iPhone 8 (A1905)     4993\n",
      "Name: count, dtype: int64, 'Samsung': Handset Type\n",
      "Samsung Galaxy S8 (Sm-G950F)    4520\n",
      "Samsung Galaxy A5 Sm-A520F      3724\n",
      "Samsung Galaxy J5 (Sm-J530)     3696\n",
      "Samsung Galaxy J3 (Sm-J330)     3484\n",
      "Samsung Galaxy S7 (Sm-G930X)    3199\n",
      "Name: count, dtype: int64, 'Huawei': Handset Type\n",
      "Huawei B528S-23A                  19752\n",
      "Huawei E5180                       2079\n",
      "Huawei P20 Lite Huawei Nova 3E     2021\n",
      "Huawei P20                         1480\n",
      "Huawei Y6 2018                      997\n",
      "Name: count, dtype: int64}\n"
     ]
    }
   ],
   "source": [
    "print(top_handsets_per_manufacturer)"
   ]
  }
 ],
 "metadata": {
  "kaggle": {
   "accelerator": "none",
   "dataSources": [
    {
     "datasetId": 6342785,
     "sourceId": 10253953,
     "sourceType": "datasetVersion"
    }
   ],
   "dockerImageVersionId": 30822,
   "isGpuEnabled": false,
   "isInternetEnabled": true,
   "language": "python",
   "sourceType": "notebook"
  },
  "kernelspec": {
   "display_name": "Python 3",
   "language": "python",
   "name": "python3"
  },
  "language_info": {
   "codemirror_mode": {
    "name": "ipython",
    "version": 3
   },
   "file_extension": ".py",
   "mimetype": "text/x-python",
   "name": "python",
   "nbconvert_exporter": "python",
   "pygments_lexer": "ipython3",
   "version": "3.10.12"
  },
  "papermill": {
   "default_parameters": {},
   "duration": 121.130023,
   "end_time": "2024-12-20T11:45:48.071530",
   "environment_variables": {},
   "exception": null,
   "input_path": "__notebook__.ipynb",
   "output_path": "__notebook__.ipynb",
   "parameters": {},
   "start_time": "2024-12-20T11:43:46.941507",
   "version": "2.6.0"
  }
 },
 "nbformat": 4,
 "nbformat_minor": 5
}
